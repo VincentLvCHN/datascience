{
 "cells": [
  {
   "cell_type": "markdown",
   "id": "9c627fb5-dc8b-4c0f-9143-d5ddbf4f8fbe",
   "metadata": {},
   "source": [
    "# Data Science Tools and Ecosystem"
   ]
  },
  {
   "cell_type": "markdown",
   "id": "6045e17c-aa54-4fad-9366-71175a530f33",
   "metadata": {},
   "source": [
    "In this notebook, Data Science Tools and Ecosystem are summarized."
   ]
  },
  {
   "cell_type": "markdown",
   "id": "49ddfce3-a17c-48f4-8836-cd92e9b0039d",
   "metadata": {},
   "source": [
    "Some of the popular languages that Data Scientists used are:\n",
    "1. Python\n",
    "2. R\n",
    "3. SQL\n",
    "4. Julia\n",
    "5. Scala"
   ]
  },
  {
   "cell_type": "markdown",
   "id": "30530983-5f0c-4bd3-b129-4f91b2c77b7b",
   "metadata": {},
   "source": [
    "Some of the commonly used libraries used by Data Scientists include:\n",
    "1. Pandas\n",
    "2. Numpy\n",
    "3. Scikit-learn\n",
    "4. Keras"
   ]
  },
  {
   "cell_type": "markdown",
   "id": "ac874103-9460-426b-b30a-062e6de5b18c",
   "metadata": {},
   "source": [
    "|Data Science Tools|\n",
    "|---|\n",
    "|MySQL|\n",
    "|NoSQL|\n",
    "|MangoDB|"
   ]
  },
  {
   "cell_type": "markdown",
   "id": "425c3d57-4f9d-40b1-b0d2-52e1581c9d8a",
   "metadata": {},
   "source": [
    "### Below are a few examples of evaluating arithmetic expressions in Python.\n",
    "1. Addition: 2+3 evaluates to 5\n",
    "2. Substraction： 10-5 evaluates to 5\n",
    "3. Multiplication: 4*5 evaluates to 20\n",
    "4. Division: 10/2 evaluates to 5.0"
   ]
  },
  {
   "cell_type": "code",
   "execution_count": 1,
   "id": "45e6b602-96d4-4a1d-b0da-d0617f558bf8",
   "metadata": {},
   "outputs": [
    {
     "data": {
      "text/plain": [
       "17"
      ]
     },
     "execution_count": 1,
     "metadata": {},
     "output_type": "execute_result"
    }
   ],
   "source": [
    "# This is a simple arithmetic expression to multiply then add integers.\n",
    "(3*4)+5"
   ]
  },
  {
   "cell_type": "code",
   "execution_count": 2,
   "id": "443ab1b4-24b5-40c1-8378-d9e49f8304af",
   "metadata": {},
   "outputs": [
    {
     "data": {
      "text/plain": [
       "3.3333333333333335"
      ]
     },
     "execution_count": 2,
     "metadata": {},
     "output_type": "execute_result"
    }
   ],
   "source": [
    "# This will convert 200 minutes to hours by diving by 60\n",
    "200/60"
   ]
  },
  {
   "cell_type": "markdown",
   "id": "2774277e-2c31-41bd-a428-d3eeec52b1ab",
   "metadata": {},
   "source": [
    "**Objectives:**\n",
    "- Data Science Languages\n",
    "- Data Science Libraries\n",
    "- Data Science Tools"
   ]
  },
  {
   "cell_type": "markdown",
   "id": "9da59e06-ad19-4f5f-98d1-9469a7e3bd83",
   "metadata": {},
   "source": [
    "## Author\n",
    "*Qiang Lv*"
   ]
  }
 ],
 "metadata": {
  "kernelspec": {
   "display_name": "Python 3 (ipykernel)",
   "language": "python",
   "name": "python3"
  },
  "language_info": {
   "codemirror_mode": {
    "name": "ipython",
    "version": 3
   },
   "file_extension": ".py",
   "mimetype": "text/x-python",
   "name": "python",
   "nbconvert_exporter": "python",
   "pygments_lexer": "ipython3",
   "version": "3.11.4"
  }
 },
 "nbformat": 4,
 "nbformat_minor": 5
}
